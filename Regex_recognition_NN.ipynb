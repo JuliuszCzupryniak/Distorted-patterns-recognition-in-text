{
  "nbformat": 4,
  "nbformat_minor": 0,
  "metadata": {
    "colab": {
      "name": "Regex recognition - NN.ipynb",
      "provenance": [],
      "collapsed_sections": [],
      "authorship_tag": "ABX9TyP+HJOG8Nlajr5Zq1/QsC+4",
      "include_colab_link": true
    },
    "kernelspec": {
      "name": "python3",
      "display_name": "Python 3"
    }
  },
  "cells": [
    {
      "cell_type": "markdown",
      "metadata": {
        "id": "view-in-github",
        "colab_type": "text"
      },
      "source": [
        "<a href=\"https://colab.research.google.com/github/JuliuszCzupryniak/Distorted-patterns-recognition-in-text/blob/main/Regex_recognition_NN.ipynb\" target=\"_parent\"><img src=\"https://colab.research.google.com/assets/colab-badge.svg\" alt=\"Open In Colab\"/></a>"
      ]
    },
    {
      "cell_type": "code",
      "metadata": {
        "id": "PeOeC7AIshUK"
      },
      "source": [
        "import numpy as np\n",
        "import pandas as pd\n",
        "from keras.models import Sequential\n",
        "from keras.layers import LSTM, Dense"
      ],
      "execution_count": null,
      "outputs": []
    },
    {
      "cell_type": "code",
      "metadata": {
        "id": "QYvufIMS_c8b"
      },
      "source": [
        "from IPython.display import display_html\r\n",
        "def display_side_by_side(*args):\r\n",
        "    html_str=''\r\n",
        "    for df in args:\r\n",
        "        html_str+=df.to_html()\r\n",
        "    display_html(html_str.replace('table','table style=\"display:inline\"'),raw=True)"
      ],
      "execution_count": null,
      "outputs": []
    },
    {
      "cell_type": "code",
      "metadata": {
        "id": "4zx1MGk0gczI"
      },
      "source": [
        "def get_unique_chars(data):\r\n",
        "  temp_list=\"\"\r\n",
        "  for i in data.text:\r\n",
        "    temp_list=temp_list+i\r\n",
        "  chars = list(set(temp_list))\r\n",
        "  chars.sort()\r\n",
        "  return chars\r\n",
        "\r\n",
        "def category_encoding(datatarget):\r\n",
        "  outputs = []\r\n",
        "  outputs.append(\"\")\r\n",
        "  for i in range(len(datatarget)):\r\n",
        "    for j in range(len(datatarget[i])):\r\n",
        "      outputs.append(datatarget[i][j])\r\n",
        "  outputs=list(set(outputs))\r\n",
        "  outputs.sort()\r\n",
        "  temp_list=[]\r\n",
        "  x=0;\r\n",
        "  for i in outputs:\r\n",
        "    temp_list.append(x)\r\n",
        "    x+=1\r\n",
        "  outputs = pd.DataFrame({'Output':outputs,'Label':temp_list})\r\n",
        "  return outputs\r\n",
        "\r\n",
        "def standarize_data_length(data,size):\r\n",
        "  for i in data:\r\n",
        "    for j in range(size-len(i)):\r\n",
        "      i.append(\"\")\r\n",
        "  return data\r\n",
        "\r\n",
        "def text_to_list(data):\r\n",
        "  dataset=[]\r\n",
        "  temp_list=[]\r\n",
        "  for i in data.text:\r\n",
        "    for j in i:\r\n",
        "      temp_list.append(j)\r\n",
        "    dataset.append(temp_list.copy())\r\n",
        "    temp_list.clear()\r\n",
        "  return dataset\r\n",
        "\r\n",
        "def regex_to_list(data):\r\n",
        "  datatarget=[]\r\n",
        "  temp_list=[]\r\n",
        "  for i in range(len(data.regex)):\r\n",
        "    for j in range(len(data.regex[i])):\r\n",
        "      output=\"\"\r\n",
        "      if data.regex[i][j]==\"[\":\r\n",
        "        j+=1\r\n",
        "        while data.regex[i][j] != \"]\":\r\n",
        "          output=output+data.regex[i][j]\r\n",
        "          j+=1\r\n",
        "        temp_list.append(output)\r\n",
        "    datatarget.append(temp_list.copy())\r\n",
        "    temp_list.clear()\r\n",
        "  return datatarget\r\n",
        "\r\n",
        "def standarize_target_vector(datatarget,outputs):\r\n",
        "  for i in range(len(datatarget)):\r\n",
        "    for j in range(len(datatarget[i])):\r\n",
        "      for k in range(len(outputs)):\r\n",
        "        if datatarget[i][j]==outputs.Output[k]:\r\n",
        "          datatarget[i][j]=outputs.Label[k]\r\n",
        "          break\r\n",
        "  return datatarget"
      ],
      "execution_count": null,
      "outputs": []
    },
    {
      "cell_type": "code",
      "metadata": {
        "id": "xcbFBPe9ffVZ",
        "colab": {
          "base_uri": "https://localhost:8080/",
          "height": 418
        },
        "outputId": "a6b57fb7-4c4c-4aa2-8ce3-3fc5dc2aacc0"
      },
      "source": [
        "train_data = pd.read_csv(\"/content/train_data.csv\")\n",
        "test_data = pd.read_csv(\"/content/test_data.csv\")\n",
        "predict_data = pd.read_csv(\"/content/predict_data.csv\")\n",
        "display_side_by_side(train_data[0:10],test_data[:10],predict_data[:10])\n",
        "print()\n",
        "print(\"Maksymalna długość obserwacji w zbiorze treningowym  :  \" + str(max(len(x) for x in train_data.text)))\n",
        "print(\"Maksymalna długość obserwacji w zbiorze testowym     :  \" + str(max(len(x) for x in test_data.text)))\n",
        "print(\"Maksymalna długość obserwacji w zbiorze do predykcji :  \" + str(max(len(x) for x in predict_data.text)))"
      ],
      "execution_count": null,
      "outputs": [
        {
          "output_type": "display_data",
          "data": {
            "text/html": [
              "<table style=\"display:inline\" border=\"1\" class=\"dataframe\">\n",
              "  <thead>\n",
              "    <tr style=\"text-align: right;\">\n",
              "      <th></th>\n",
              "      <th>text</th>\n",
              "      <th>regex</th>\n",
              "    </tr>\n",
              "  </thead>\n",
              "  <tbody>\n",
              "    <tr>\n",
              "      <th>0</th>\n",
              "      <td>47-199</td>\n",
              "      <td>[0-9][0-9][-][0-9][0-9][0-9]</td>\n",
              "    </tr>\n",
              "    <tr>\n",
              "      <th>1</th>\n",
              "      <td>01-332</td>\n",
              "      <td>[0-9][0-9][-][0-9][0-9][0-9]</td>\n",
              "    </tr>\n",
              "    <tr>\n",
              "      <th>2</th>\n",
              "      <td>48-858</td>\n",
              "      <td>[0-9][0-9][-][0-9][0-9][0-9]</td>\n",
              "    </tr>\n",
              "    <tr>\n",
              "      <th>3</th>\n",
              "      <td>36-059</td>\n",
              "      <td>[0-9][0-9][-][0-9][0-9][0-9]</td>\n",
              "    </tr>\n",
              "    <tr>\n",
              "      <th>4</th>\n",
              "      <td>75-388</td>\n",
              "      <td>[0-9][0-9][-][0-9][0-9][0-9]</td>\n",
              "    </tr>\n",
              "    <tr>\n",
              "      <th>5</th>\n",
              "      <td>16-196</td>\n",
              "      <td>[0-9][0-9][-][0-9][0-9][0-9]</td>\n",
              "    </tr>\n",
              "    <tr>\n",
              "      <th>6</th>\n",
              "      <td>52-111</td>\n",
              "      <td>[0-9][0-9][-][0-9][0-9][0-9]</td>\n",
              "    </tr>\n",
              "    <tr>\n",
              "      <th>7</th>\n",
              "      <td>61-240</td>\n",
              "      <td>[0-9][0-9][-][0-9][0-9][0-9]</td>\n",
              "    </tr>\n",
              "    <tr>\n",
              "      <th>8</th>\n",
              "      <td>90-111</td>\n",
              "      <td>[0-9][0-9][-][0-9][0-9][0-9]</td>\n",
              "    </tr>\n",
              "    <tr>\n",
              "      <th>9</th>\n",
              "      <td>86-563</td>\n",
              "      <td>[0-9][0-9][-][0-9][0-9][0-9]</td>\n",
              "    </tr>\n",
              "  </tbody>\n",
              "</table style=\"display:inline\"><table style=\"display:inline\" border=\"1\" class=\"dataframe\">\n",
              "  <thead>\n",
              "    <tr style=\"text-align: right;\">\n",
              "      <th></th>\n",
              "      <th>text</th>\n",
              "      <th>regex</th>\n",
              "    </tr>\n",
              "  </thead>\n",
              "  <tbody>\n",
              "    <tr>\n",
              "      <th>0</th>\n",
              "      <td>360-WO</td>\n",
              "      <td>[0-9][0-9][0-9][-][A-Z][A-Z]</td>\n",
              "    </tr>\n",
              "    <tr>\n",
              "      <th>1</th>\n",
              "      <td>562-CZ</td>\n",
              "      <td>[0-9][0-9][0-9][-][A-Z][A-Z]</td>\n",
              "    </tr>\n",
              "    <tr>\n",
              "      <th>2</th>\n",
              "      <td>182-MI</td>\n",
              "      <td>[0-9][0-9][0-9][-][A-Z][A-Z]</td>\n",
              "    </tr>\n",
              "    <tr>\n",
              "      <th>3</th>\n",
              "      <td>371-MC</td>\n",
              "      <td>[0-9][0-9][0-9][-][A-Z][A-Z]</td>\n",
              "    </tr>\n",
              "    <tr>\n",
              "      <th>4</th>\n",
              "      <td>422-WJ</td>\n",
              "      <td>[0-9][0-9][0-9][-][A-Z][A-Z]</td>\n",
              "    </tr>\n",
              "    <tr>\n",
              "      <th>5</th>\n",
              "      <td>310-FO</td>\n",
              "      <td>[0-9][0-9][0-9][-][A-Z][A-Z]</td>\n",
              "    </tr>\n",
              "    <tr>\n",
              "      <th>6</th>\n",
              "      <td>089-SR</td>\n",
              "      <td>[0-9][0-9][0-9][-][A-Z][A-Z]</td>\n",
              "    </tr>\n",
              "    <tr>\n",
              "      <th>7</th>\n",
              "      <td>646-GO</td>\n",
              "      <td>[0-9][0-9][0-9][-][A-Z][A-Z]</td>\n",
              "    </tr>\n",
              "    <tr>\n",
              "      <th>8</th>\n",
              "      <td>940-GD</td>\n",
              "      <td>[0-9][0-9][0-9][-][A-Z][A-Z]</td>\n",
              "    </tr>\n",
              "    <tr>\n",
              "      <th>9</th>\n",
              "      <td>188-BQ</td>\n",
              "      <td>[0-9][0-9][0-9][-][A-Z][A-Z]</td>\n",
              "    </tr>\n",
              "  </tbody>\n",
              "</table style=\"display:inline\"><table style=\"display:inline\" border=\"1\" class=\"dataframe\">\n",
              "  <thead>\n",
              "    <tr style=\"text-align: right;\">\n",
              "      <th></th>\n",
              "      <th>text</th>\n",
              "      <th>regex</th>\n",
              "    </tr>\n",
              "  </thead>\n",
              "  <tbody>\n",
              "    <tr>\n",
              "      <th>0</th>\n",
              "      <td>HRJ1--</td>\n",
              "      <td>[A-Z][A-Z][A-Z][0-9][-][-]</td>\n",
              "    </tr>\n",
              "    <tr>\n",
              "      <th>1</th>\n",
              "      <td>VGW8--</td>\n",
              "      <td>[A-Z][A-Z][A-Z][0-9][-][-]</td>\n",
              "    </tr>\n",
              "    <tr>\n",
              "      <th>2</th>\n",
              "      <td>K-9-J2</td>\n",
              "      <td>[A-Z][-][0-9][-][A-Z][0-9]</td>\n",
              "    </tr>\n",
              "    <tr>\n",
              "      <th>3</th>\n",
              "      <td>Y-0-I0</td>\n",
              "      <td>[A-Z][-][0-9][-][A-Z][0-9]</td>\n",
              "    </tr>\n",
              "    <tr>\n",
              "      <th>4</th>\n",
              "      <td>I--WA---9</td>\n",
              "      <td>[A-Z][-][-][A-Z][A-Z][-][-][-][0-9]</td>\n",
              "    </tr>\n",
              "    <tr>\n",
              "      <th>5</th>\n",
              "      <td>F--MJ---4</td>\n",
              "      <td>[A-Z][-][-][A-Z][A-Z][-][-][-][0-9]</td>\n",
              "    </tr>\n",
              "  </tbody>\n",
              "</table style=\"display:inline\">"
            ]
          },
          "metadata": {
            "tags": []
          }
        },
        {
          "output_type": "stream",
          "text": [
            "\n",
            "Maksymalna długość obserwacji w zbiorze treningowym  :  9\n",
            "Maksymalna długość obserwacji w zbiorze testowym     :  8\n",
            "Maksymalna długość obserwacji w zbiorze do predykcji :  9\n"
          ],
          "name": "stdout"
        }
      ]
    },
    {
      "cell_type": "code",
      "metadata": {
        "id": "qu7gpPi6jf1z",
        "colab": {
          "base_uri": "https://localhost:8080/",
          "height": 527
        },
        "outputId": "5cf44ff7-5802-43b1-f2ab-2e12c71304d9"
      },
      "source": [
        "alphabet = get_unique_chars(train_data)\r\n",
        "alphabet_lookup = category_encoding(alphabet)\r\n",
        "\r\n",
        "display_side_by_side(alphabet_lookup[0:16],alphabet_lookup[16:32],alphabet_lookup[32:48],alphabet_lookup[48:64],alphabet_lookup[64:80],alphabet_lookup[80:96],alphabet_lookup[96:112],alphabet_lookup[112:])"
      ],
      "execution_count": null,
      "outputs": [
        {
          "output_type": "display_data",
          "data": {
            "text/html": [
              "<table style=\"display:inline\" border=\"1\" class=\"dataframe\">\n",
              "  <thead>\n",
              "    <tr style=\"text-align: right;\">\n",
              "      <th></th>\n",
              "      <th>Output</th>\n",
              "      <th>Label</th>\n",
              "    </tr>\n",
              "  </thead>\n",
              "  <tbody>\n",
              "    <tr>\n",
              "      <th>0</th>\n",
              "      <td></td>\n",
              "      <td>0</td>\n",
              "    </tr>\n",
              "    <tr>\n",
              "      <th>1</th>\n",
              "      <td>-</td>\n",
              "      <td>1</td>\n",
              "    </tr>\n",
              "    <tr>\n",
              "      <th>2</th>\n",
              "      <td>0</td>\n",
              "      <td>2</td>\n",
              "    </tr>\n",
              "    <tr>\n",
              "      <th>3</th>\n",
              "      <td>1</td>\n",
              "      <td>3</td>\n",
              "    </tr>\n",
              "    <tr>\n",
              "      <th>4</th>\n",
              "      <td>2</td>\n",
              "      <td>4</td>\n",
              "    </tr>\n",
              "    <tr>\n",
              "      <th>5</th>\n",
              "      <td>3</td>\n",
              "      <td>5</td>\n",
              "    </tr>\n",
              "    <tr>\n",
              "      <th>6</th>\n",
              "      <td>4</td>\n",
              "      <td>6</td>\n",
              "    </tr>\n",
              "    <tr>\n",
              "      <th>7</th>\n",
              "      <td>5</td>\n",
              "      <td>7</td>\n",
              "    </tr>\n",
              "    <tr>\n",
              "      <th>8</th>\n",
              "      <td>6</td>\n",
              "      <td>8</td>\n",
              "    </tr>\n",
              "    <tr>\n",
              "      <th>9</th>\n",
              "      <td>7</td>\n",
              "      <td>9</td>\n",
              "    </tr>\n",
              "    <tr>\n",
              "      <th>10</th>\n",
              "      <td>8</td>\n",
              "      <td>10</td>\n",
              "    </tr>\n",
              "    <tr>\n",
              "      <th>11</th>\n",
              "      <td>9</td>\n",
              "      <td>11</td>\n",
              "    </tr>\n",
              "    <tr>\n",
              "      <th>12</th>\n",
              "      <td>A</td>\n",
              "      <td>12</td>\n",
              "    </tr>\n",
              "    <tr>\n",
              "      <th>13</th>\n",
              "      <td>B</td>\n",
              "      <td>13</td>\n",
              "    </tr>\n",
              "    <tr>\n",
              "      <th>14</th>\n",
              "      <td>C</td>\n",
              "      <td>14</td>\n",
              "    </tr>\n",
              "    <tr>\n",
              "      <th>15</th>\n",
              "      <td>D</td>\n",
              "      <td>15</td>\n",
              "    </tr>\n",
              "  </tbody>\n",
              "</table style=\"display:inline\"><table style=\"display:inline\" border=\"1\" class=\"dataframe\">\n",
              "  <thead>\n",
              "    <tr style=\"text-align: right;\">\n",
              "      <th></th>\n",
              "      <th>Output</th>\n",
              "      <th>Label</th>\n",
              "    </tr>\n",
              "  </thead>\n",
              "  <tbody>\n",
              "    <tr>\n",
              "      <th>16</th>\n",
              "      <td>E</td>\n",
              "      <td>16</td>\n",
              "    </tr>\n",
              "    <tr>\n",
              "      <th>17</th>\n",
              "      <td>F</td>\n",
              "      <td>17</td>\n",
              "    </tr>\n",
              "    <tr>\n",
              "      <th>18</th>\n",
              "      <td>G</td>\n",
              "      <td>18</td>\n",
              "    </tr>\n",
              "    <tr>\n",
              "      <th>19</th>\n",
              "      <td>H</td>\n",
              "      <td>19</td>\n",
              "    </tr>\n",
              "    <tr>\n",
              "      <th>20</th>\n",
              "      <td>I</td>\n",
              "      <td>20</td>\n",
              "    </tr>\n",
              "    <tr>\n",
              "      <th>21</th>\n",
              "      <td>J</td>\n",
              "      <td>21</td>\n",
              "    </tr>\n",
              "    <tr>\n",
              "      <th>22</th>\n",
              "      <td>K</td>\n",
              "      <td>22</td>\n",
              "    </tr>\n",
              "    <tr>\n",
              "      <th>23</th>\n",
              "      <td>L</td>\n",
              "      <td>23</td>\n",
              "    </tr>\n",
              "    <tr>\n",
              "      <th>24</th>\n",
              "      <td>M</td>\n",
              "      <td>24</td>\n",
              "    </tr>\n",
              "    <tr>\n",
              "      <th>25</th>\n",
              "      <td>N</td>\n",
              "      <td>25</td>\n",
              "    </tr>\n",
              "    <tr>\n",
              "      <th>26</th>\n",
              "      <td>O</td>\n",
              "      <td>26</td>\n",
              "    </tr>\n",
              "    <tr>\n",
              "      <th>27</th>\n",
              "      <td>P</td>\n",
              "      <td>27</td>\n",
              "    </tr>\n",
              "    <tr>\n",
              "      <th>28</th>\n",
              "      <td>Q</td>\n",
              "      <td>28</td>\n",
              "    </tr>\n",
              "    <tr>\n",
              "      <th>29</th>\n",
              "      <td>R</td>\n",
              "      <td>29</td>\n",
              "    </tr>\n",
              "    <tr>\n",
              "      <th>30</th>\n",
              "      <td>S</td>\n",
              "      <td>30</td>\n",
              "    </tr>\n",
              "    <tr>\n",
              "      <th>31</th>\n",
              "      <td>T</td>\n",
              "      <td>31</td>\n",
              "    </tr>\n",
              "  </tbody>\n",
              "</table style=\"display:inline\"><table style=\"display:inline\" border=\"1\" class=\"dataframe\">\n",
              "  <thead>\n",
              "    <tr style=\"text-align: right;\">\n",
              "      <th></th>\n",
              "      <th>Output</th>\n",
              "      <th>Label</th>\n",
              "    </tr>\n",
              "  </thead>\n",
              "  <tbody>\n",
              "    <tr>\n",
              "      <th>32</th>\n",
              "      <td>U</td>\n",
              "      <td>32</td>\n",
              "    </tr>\n",
              "    <tr>\n",
              "      <th>33</th>\n",
              "      <td>V</td>\n",
              "      <td>33</td>\n",
              "    </tr>\n",
              "    <tr>\n",
              "      <th>34</th>\n",
              "      <td>W</td>\n",
              "      <td>34</td>\n",
              "    </tr>\n",
              "    <tr>\n",
              "      <th>35</th>\n",
              "      <td>X</td>\n",
              "      <td>35</td>\n",
              "    </tr>\n",
              "    <tr>\n",
              "      <th>36</th>\n",
              "      <td>Y</td>\n",
              "      <td>36</td>\n",
              "    </tr>\n",
              "    <tr>\n",
              "      <th>37</th>\n",
              "      <td>Z</td>\n",
              "      <td>37</td>\n",
              "    </tr>\n",
              "  </tbody>\n",
              "</table style=\"display:inline\"><table style=\"display:inline\" border=\"1\" class=\"dataframe\">\n",
              "  <thead>\n",
              "    <tr style=\"text-align: right;\">\n",
              "      <th></th>\n",
              "      <th>Output</th>\n",
              "      <th>Label</th>\n",
              "    </tr>\n",
              "  </thead>\n",
              "  <tbody>\n",
              "  </tbody>\n",
              "</table style=\"display:inline\"><table style=\"display:inline\" border=\"1\" class=\"dataframe\">\n",
              "  <thead>\n",
              "    <tr style=\"text-align: right;\">\n",
              "      <th></th>\n",
              "      <th>Output</th>\n",
              "      <th>Label</th>\n",
              "    </tr>\n",
              "  </thead>\n",
              "  <tbody>\n",
              "  </tbody>\n",
              "</table style=\"display:inline\"><table style=\"display:inline\" border=\"1\" class=\"dataframe\">\n",
              "  <thead>\n",
              "    <tr style=\"text-align: right;\">\n",
              "      <th></th>\n",
              "      <th>Output</th>\n",
              "      <th>Label</th>\n",
              "    </tr>\n",
              "  </thead>\n",
              "  <tbody>\n",
              "  </tbody>\n",
              "</table style=\"display:inline\"><table style=\"display:inline\" border=\"1\" class=\"dataframe\">\n",
              "  <thead>\n",
              "    <tr style=\"text-align: right;\">\n",
              "      <th></th>\n",
              "      <th>Output</th>\n",
              "      <th>Label</th>\n",
              "    </tr>\n",
              "  </thead>\n",
              "  <tbody>\n",
              "  </tbody>\n",
              "</table style=\"display:inline\"><table style=\"display:inline\" border=\"1\" class=\"dataframe\">\n",
              "  <thead>\n",
              "    <tr style=\"text-align: right;\">\n",
              "      <th></th>\n",
              "      <th>Output</th>\n",
              "      <th>Label</th>\n",
              "    </tr>\n",
              "  </thead>\n",
              "  <tbody>\n",
              "  </tbody>\n",
              "</table style=\"display:inline\">"
            ]
          },
          "metadata": {
            "tags": []
          }
        }
      ]
    },
    {
      "cell_type": "code",
      "metadata": {
        "id": "2DL2JenGbLK4"
      },
      "source": [
        "train_set = text_to_list(train_data)\r\n",
        "test_set= text_to_list(test_data)\r\n",
        "predict_set = text_to_list(predict_data)"
      ],
      "execution_count": null,
      "outputs": []
    },
    {
      "cell_type": "code",
      "metadata": {
        "id": "RK5RBNRMb-QT"
      },
      "source": [
        "size = 9\r\n",
        "train_set = standarize_data_length(train_set,size)\r\n",
        "test_set = standarize_data_length(test_set,size)\r\n",
        "predict_set = standarize_data_length(predict_set,size)"
      ],
      "execution_count": null,
      "outputs": []
    },
    {
      "cell_type": "code",
      "metadata": {
        "id": "SNkrbcMed7JK"
      },
      "source": [
        "train_set = standarize_target_vector(train_set,alphabet_lookup)\r\n",
        "test_set = standarize_target_vector(test_set,alphabet_lookup)\r\n",
        "predict_set = standarize_target_vector(predict_set,alphabet_lookup)"
      ],
      "execution_count": null,
      "outputs": []
    },
    {
      "cell_type": "code",
      "metadata": {
        "id": "cdOPaIgtnR6V"
      },
      "source": [
        "train_target = regex_to_list(train_data)\r\n",
        "test_target = regex_to_list(test_data)\r\n",
        "categories_lookup = category_encoding(train_target)"
      ],
      "execution_count": null,
      "outputs": []
    },
    {
      "cell_type": "code",
      "metadata": {
        "colab": {
          "base_uri": "https://localhost:8080/",
          "height": 167
        },
        "id": "O392udMRhPe1",
        "outputId": "2e8805f4-69fc-4dbe-ed2a-8d0aaca96b45"
      },
      "source": [
        "categories_lookup"
      ],
      "execution_count": null,
      "outputs": [
        {
          "output_type": "execute_result",
          "data": {
            "text/html": [
              "<div>\n",
              "<style scoped>\n",
              "    .dataframe tbody tr th:only-of-type {\n",
              "        vertical-align: middle;\n",
              "    }\n",
              "\n",
              "    .dataframe tbody tr th {\n",
              "        vertical-align: top;\n",
              "    }\n",
              "\n",
              "    .dataframe thead th {\n",
              "        text-align: right;\n",
              "    }\n",
              "</style>\n",
              "<table border=\"1\" class=\"dataframe\">\n",
              "  <thead>\n",
              "    <tr style=\"text-align: right;\">\n",
              "      <th></th>\n",
              "      <th>Output</th>\n",
              "      <th>Label</th>\n",
              "    </tr>\n",
              "  </thead>\n",
              "  <tbody>\n",
              "    <tr>\n",
              "      <th>0</th>\n",
              "      <td></td>\n",
              "      <td>0</td>\n",
              "    </tr>\n",
              "    <tr>\n",
              "      <th>1</th>\n",
              "      <td>-</td>\n",
              "      <td>1</td>\n",
              "    </tr>\n",
              "    <tr>\n",
              "      <th>2</th>\n",
              "      <td>0-9</td>\n",
              "      <td>2</td>\n",
              "    </tr>\n",
              "    <tr>\n",
              "      <th>3</th>\n",
              "      <td>A-Z</td>\n",
              "      <td>3</td>\n",
              "    </tr>\n",
              "  </tbody>\n",
              "</table>\n",
              "</div>"
            ],
            "text/plain": [
              "  Output  Label\n",
              "0             0\n",
              "1      -      1\n",
              "2    0-9      2\n",
              "3    A-Z      3"
            ]
          },
          "metadata": {
            "tags": []
          },
          "execution_count": 574
        }
      ]
    },
    {
      "cell_type": "code",
      "metadata": {
        "id": "ovr3fgH384NE"
      },
      "source": [
        "train_target = standarize_data_length(train_target,size)\r\n",
        "test_target = standarize_data_length(test_target,size)\r\n",
        "train_target=standarize_target_vector(train_target,categories_lookup)\r\n",
        "test_target=standarize_target_vector(test_target,categories_lookup)"
      ],
      "execution_count": null,
      "outputs": []
    },
    {
      "cell_type": "code",
      "metadata": {
        "colab": {
          "base_uri": "https://localhost:8080/"
        },
        "id": "DWu8z1HvhUER",
        "outputId": "66845f85-7fb6-4966-995b-e8facaf5993e"
      },
      "source": [
        "print(\"Przykładowy input: \")\r\n",
        "print(train_set[0])\r\n",
        "print(\"Przykładowy output: \")\r\n",
        "print(train_target[0])\r\n",
        "print()\r\n",
        "print(\"Liczba danych testowych inputowych: \" + str(len(train_set)))\r\n",
        "print(\"Liczba danych testowych outputowych: \" + str(len(train_target)))\r\n",
        "print(\"Liczba wejść sieci neuronowej: \"+str(len(train_set[0])))"
      ],
      "execution_count": null,
      "outputs": [
        {
          "output_type": "stream",
          "text": [
            "Przykładowy input: \n",
            "[6, 9, 1, 3, 11, 11, 0, 0, 0]\n",
            "Przykładowy output: \n",
            "[2, 2, 1, 2, 2, 2, 0, 0, 0]\n",
            "\n",
            "Liczba danych testowych inputowych: 3000\n",
            "Liczba danych testowych outputowych: 3000\n",
            "Liczba wejść sieci neuronowej: 9\n"
          ],
          "name": "stdout"
        }
      ]
    },
    {
      "cell_type": "code",
      "metadata": {
        "id": "XiCLpdOhAZEC"
      },
      "source": [
        "train_X = np.array([np.array(xi) for xi in train_set])\r\n",
        "train_Y = np.array([np.array(xi) for xi in train_target])\r\n",
        "\r\n",
        "test_X = np.array([np.array(xi) for xi in test_set])\r\n",
        "test_Y = np.array([np.array(xi) for xi in test_target])\r\n",
        "\r\n",
        "predict_X = np.array([np.array(xi) for xi in predict_set])"
      ],
      "execution_count": null,
      "outputs": []
    },
    {
      "cell_type": "code",
      "metadata": {
        "colab": {
          "base_uri": "https://localhost:8080/"
        },
        "id": "fex7BDqLE6TG",
        "outputId": "fd0c8d27-1f78-49da-b449-166871e4210e"
      },
      "source": [
        "from keras.models import Sequential\r\n",
        "from keras.layers import LSTM, Dense\r\n",
        "\r\n",
        "model = Sequential()\r\n",
        "model.add(LSTM(units=size, input_shape=(size,1), return_sequences=True))\r\n",
        "model.add(Dense(1))\r\n",
        "model.compile(loss=\"mse\",optimizer =\"adam\",metrics=[\"mse\",\"accuracy\"])\r\n",
        "model.summary()"
      ],
      "execution_count": null,
      "outputs": [
        {
          "output_type": "stream",
          "text": [
            "Model: \"sequential_32\"\n",
            "_________________________________________________________________\n",
            "Layer (type)                 Output Shape              Param #   \n",
            "=================================================================\n",
            "lstm_32 (LSTM)               (None, 9, 9)              396       \n",
            "_________________________________________________________________\n",
            "dense_32 (Dense)             (None, 9, 1)              10        \n",
            "=================================================================\n",
            "Total params: 406\n",
            "Trainable params: 406\n",
            "Non-trainable params: 0\n",
            "_________________________________________________________________\n"
          ],
          "name": "stdout"
        }
      ]
    },
    {
      "cell_type": "code",
      "metadata": {
        "id": "8joU-cJUloV2"
      },
      "source": [
        "train_X = train_X.reshape(3000,9,1)\r\n",
        "train_Y = train_Y.reshape(3000,9,1)\r\n",
        "\r\n",
        "test_X = test_X.reshape(3000,9,1)\r\n",
        "test_Y = test_Y.reshape(3000,9,1)\r\n",
        "\r\n",
        "predict_X = predict_X.reshape(6,9,1)"
      ],
      "execution_count": null,
      "outputs": []
    },
    {
      "cell_type": "code",
      "metadata": {
        "colab": {
          "base_uri": "https://localhost:8080/"
        },
        "id": "RLjbWVN26BoK",
        "outputId": "e1fd43cc-99bf-4d22-8db7-3cdff89e1503"
      },
      "source": [
        "model.fit(test_X,test_Y,epochs=10)"
      ],
      "execution_count": null,
      "outputs": [
        {
          "output_type": "stream",
          "text": [
            "Epoch 1/10\n",
            "94/94 [==============================] - 0s 4ms/step - loss: 2.2024 - mse: 2.2024 - accuracy: 0.2550\n",
            "Epoch 2/10\n",
            "94/94 [==============================] - 0s 4ms/step - loss: 1.1800 - mse: 1.1800 - accuracy: 0.2294\n",
            "Epoch 3/10\n",
            "94/94 [==============================] - 0s 4ms/step - loss: 0.5432 - mse: 0.5432 - accuracy: 0.3115\n",
            "Epoch 4/10\n",
            "94/94 [==============================] - 0s 4ms/step - loss: 0.2205 - mse: 0.2205 - accuracy: 0.4461\n",
            "Epoch 5/10\n",
            "94/94 [==============================] - 0s 5ms/step - loss: 0.1304 - mse: 0.1304 - accuracy: 0.4815\n",
            "Epoch 6/10\n",
            "94/94 [==============================] - 0s 4ms/step - loss: 0.0919 - mse: 0.0919 - accuracy: 0.4815\n",
            "Epoch 7/10\n",
            "94/94 [==============================] - 0s 4ms/step - loss: 0.0686 - mse: 0.0686 - accuracy: 0.4815\n",
            "Epoch 8/10\n",
            "94/94 [==============================] - 0s 4ms/step - loss: 0.0561 - mse: 0.0561 - accuracy: 0.4815\n",
            "Epoch 9/10\n",
            "94/94 [==============================] - 0s 4ms/step - loss: 0.0484 - mse: 0.0484 - accuracy: 0.4815\n",
            "Epoch 10/10\n",
            "94/94 [==============================] - 0s 4ms/step - loss: 0.0431 - mse: 0.0431 - accuracy: 0.4815\n"
          ],
          "name": "stdout"
        },
        {
          "output_type": "execute_result",
          "data": {
            "text/plain": [
              "<tensorflow.python.keras.callbacks.History at 0x7f2644e04fd0>"
            ]
          },
          "metadata": {
            "tags": []
          },
          "execution_count": 601
        }
      ]
    },
    {
      "cell_type": "code",
      "metadata": {
        "id": "mTLTiCmt4PWC"
      },
      "source": [
        "predictions=model.predict(test_X)"
      ],
      "execution_count": null,
      "outputs": []
    },
    {
      "cell_type": "code",
      "metadata": {
        "colab": {
          "base_uri": "https://localhost:8080/"
        },
        "id": "mEbtgZ0YkfMN",
        "outputId": "0e1cf7b1-d6a8-4d84-b91a-92fd24feecb2"
      },
      "source": [
        "predictions[0]"
      ],
      "execution_count": null,
      "outputs": [
        {
          "output_type": "execute_result",
          "data": {
            "text/plain": [
              "array([[ 1.9626327e+00],\n",
              "       [ 2.3930378e+00],\n",
              "       [ 1.5564492e+00],\n",
              "       [ 1.0376557e+00],\n",
              "       [ 3.1173189e+00],\n",
              "       [ 3.0435708e+00],\n",
              "       [ 1.2640452e-01],\n",
              "       [-5.6761220e-02],\n",
              "       [-2.8401464e-03]], dtype=float32)"
            ]
          },
          "metadata": {
            "tags": []
          },
          "execution_count": 606
        }
      ]
    },
    {
      "cell_type": "code",
      "metadata": {
        "colab": {
          "base_uri": "https://localhost:8080/"
        },
        "id": "LVgj6J1KuzTT",
        "outputId": "04e3f541-cd5a-4a05-9c46-df758164672a"
      },
      "source": [
        "test_Y[0]"
      ],
      "execution_count": null,
      "outputs": [
        {
          "output_type": "execute_result",
          "data": {
            "text/plain": [
              "array([[2],\n",
              "       [2],\n",
              "       [2],\n",
              "       [1],\n",
              "       [3],\n",
              "       [3],\n",
              "       [0],\n",
              "       [0],\n",
              "       [0]])"
            ]
          },
          "metadata": {
            "tags": []
          },
          "execution_count": 607
        }
      ]
    }
  ]
}